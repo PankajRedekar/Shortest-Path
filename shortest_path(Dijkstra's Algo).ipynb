{
 "cells": [
  {
   "cell_type": "code",
   "execution_count": 22,
   "metadata": {},
   "outputs": [],
   "source": [
    "#Import libraries\n",
    "import numpy as np"
   ]
  },
  {
   "cell_type": "code",
   "execution_count": 23,
   "metadata": {},
   "outputs": [
    {
     "data": {
      "text/plain": [
       "array([[nan, 10., nan, nan, nan,  7., nan, nan, nan, nan, nan, nan, nan,\n",
       "         3., nan, nan],\n",
       "       [10., nan,  8., nan,  3., nan, nan, nan, nan, nan, nan, nan, nan,\n",
       "        nan, nan, nan],\n",
       "       [nan,  8., nan,  7., nan, nan, nan,  1.,  3., nan, nan, nan, nan,\n",
       "        nan, nan, nan],\n",
       "       [nan, nan,  7., nan, nan, nan, nan, nan,  4.,  2., nan, nan, nan,\n",
       "        nan, nan, nan],\n",
       "       [nan,  3., nan, nan, nan,  2.,  2.,  4., nan, nan, nan,  8., nan,\n",
       "        nan,  9., nan],\n",
       "       [ 7., nan, nan, nan,  2., nan, nan, nan, nan, nan, nan, nan,  2.,\n",
       "        nan, nan, nan],\n",
       "       [nan, nan, nan, nan,  2., nan, nan, nan, nan, nan, nan, nan, nan,\n",
       "        24., nan, nan],\n",
       "       [nan, nan,  1., nan,  4., nan, nan, nan,  9., nan, nan,  2., nan,\n",
       "        nan, nan, nan],\n",
       "       [nan, nan,  3.,  4., nan, nan, nan,  9., nan,  2.,  7., nan, nan,\n",
       "        nan, nan, nan],\n",
       "       [nan, nan, nan,  2., nan, nan, nan, nan, nan, nan, 12., nan, nan,\n",
       "        nan, nan, nan],\n",
       "       [nan, nan, nan, nan, nan, nan, nan, nan,  7., 12., nan, nan, nan,\n",
       "        nan, nan, nan],\n",
       "       [nan, nan, nan, nan,  8., nan, nan,  2., nan, nan, nan, nan, nan,\n",
       "        nan,  3.,  4.],\n",
       "       [nan, nan, nan, nan, nan,  2., nan, nan, nan, nan, nan, nan, nan,\n",
       "         6., nan, nan],\n",
       "       [ 3., nan, nan, nan, nan, nan, 24., nan, nan, nan, nan, nan,  6.,\n",
       "        nan, nan, nan],\n",
       "       [nan, nan, nan, nan,  9., nan, nan, nan, nan, nan, nan,  3., nan,\n",
       "        nan, nan,  4.],\n",
       "       [nan, nan, nan, nan, nan, nan, nan, nan, nan, nan, nan,  4., nan,\n",
       "        nan,  4., nan]])"
      ]
     },
     "execution_count": 23,
     "metadata": {},
     "output_type": "execute_result"
    }
   ],
   "source": [
    "#Initialize data\n",
    "node_value_data = np.genfromtxt(\"data.csv\", delimiter=\"\\t\")\n",
    "nodes = node_value_data.shape[0]\n",
    "node_value_data"
   ]
  },
  {
   "cell_type": "code",
   "execution_count": 24,
   "metadata": {},
   "outputs": [
    {
     "data": {
      "text/plain": [
       "array([[inf, 10., inf, inf, inf,  7., inf, inf, inf, inf, inf, inf, inf,\n",
       "         3., inf, inf],\n",
       "       [10., inf,  8., inf,  3., inf, inf, inf, inf, inf, inf, inf, inf,\n",
       "        inf, inf, inf],\n",
       "       [inf,  8., inf,  7., inf, inf, inf,  1.,  3., inf, inf, inf, inf,\n",
       "        inf, inf, inf],\n",
       "       [inf, inf,  7., inf, inf, inf, inf, inf,  4.,  2., inf, inf, inf,\n",
       "        inf, inf, inf],\n",
       "       [inf,  3., inf, inf, inf,  2.,  2.,  4., inf, inf, inf,  8., inf,\n",
       "        inf,  9., inf],\n",
       "       [ 7., inf, inf, inf,  2., inf, inf, inf, inf, inf, inf, inf,  2.,\n",
       "        inf, inf, inf],\n",
       "       [inf, inf, inf, inf,  2., inf, inf, inf, inf, inf, inf, inf, inf,\n",
       "        24., inf, inf],\n",
       "       [inf, inf,  1., inf,  4., inf, inf, inf,  9., inf, inf,  2., inf,\n",
       "        inf, inf, inf],\n",
       "       [inf, inf,  3.,  4., inf, inf, inf,  9., inf,  2.,  7., inf, inf,\n",
       "        inf, inf, inf],\n",
       "       [inf, inf, inf,  2., inf, inf, inf, inf, inf, inf, 12., inf, inf,\n",
       "        inf, inf, inf],\n",
       "       [inf, inf, inf, inf, inf, inf, inf, inf,  7., 12., inf, inf, inf,\n",
       "        inf, inf, inf],\n",
       "       [inf, inf, inf, inf,  8., inf, inf,  2., inf, inf, inf, inf, inf,\n",
       "        inf,  3.,  4.],\n",
       "       [inf, inf, inf, inf, inf,  2., inf, inf, inf, inf, inf, inf, inf,\n",
       "         6., inf, inf],\n",
       "       [ 3., inf, inf, inf, inf, inf, 24., inf, inf, inf, inf, inf,  6.,\n",
       "        inf, inf, inf],\n",
       "       [inf, inf, inf, inf,  9., inf, inf, inf, inf, inf, inf,  3., inf,\n",
       "        inf, inf,  4.],\n",
       "       [inf, inf, inf, inf, inf, inf, inf, inf, inf, inf, inf,  4., inf,\n",
       "        inf,  4., inf]])"
      ]
     },
     "execution_count": 24,
     "metadata": {},
     "output_type": "execute_result"
    }
   ],
   "source": [
    "#Remove unknown value with Infinity\n",
    "node_value_data[np.isnan(node_value_data)]  = np.Infinity\n",
    "node_value_data"
   ]
  },
  {
   "cell_type": "code",
   "execution_count": 25,
   "metadata": {},
   "outputs": [],
   "source": [
    "#Initialize nodes and output matrix\n",
    "unvisited = [i for i in range(nodes)]\n",
    "output = np.empty((0,3),int)"
   ]
  },
  {
   "cell_type": "code",
   "execution_count": 26,
   "metadata": {},
   "outputs": [],
   "source": [
    "'''\n",
    "Input: source and destination\n",
    "output: array of shortest path\n",
    "'''\n",
    "def findShortestPath(source,destination):\n",
    "    global node_value_data,nodes,unvisited,visited,output\n",
    "    \n",
    "    for i in range(nodes):\n",
    "        if i == source:\n",
    "            output = np.vstack((output, np.array([i,0,0])))\n",
    "        else:\n",
    "            output = np.vstack((output, np.array([i,np.Infinity,-1])))\n",
    "            \n",
    "    while len(unvisited) != 0:\n",
    "        min = np.Infinity\n",
    "        current_node = np.Infinity\n",
    "        \n",
    "        for i in unvisited:\n",
    "            if output[:,1][i] < min:\n",
    "                min = output[:,1][i]\n",
    "                current_node = i\n",
    "\n",
    "        unvisited.remove(current_node)\n",
    "        \n",
    "        current_node_value = node_value_data[current_node]\n",
    "        for i in range(nodes):\n",
    "            if i in unvisited and current_node_value[i] != np.inf:\n",
    "                if output[:,1][i] > (min+current_node_value[i]):\n",
    "                    output[:,1][i] = min+current_node_value[i]\n",
    "                    output[:,2][i] = current_node\n",
    "    \n",
    "    path = np.array([])\n",
    "    i = destination                    \n",
    "    while i != source:\n",
    "        path = np.append(path,[i])\n",
    "        i = int(output[:,2][i])\n",
    "    path = np.append(path,[source])\n",
    "    \n",
    "    return np.flip(path)"
   ]
  },
  {
   "cell_type": "code",
   "execution_count": 27,
   "metadata": {},
   "outputs": [
    {
     "data": {
      "text/plain": [
       "array([ 0.,  5.,  4.,  7.,  2.,  8., 10.])"
      ]
     },
     "execution_count": 27,
     "metadata": {},
     "output_type": "execute_result"
    }
   ],
   "source": [
    "findShortestPath(0,10)"
   ]
  },
  {
   "cell_type": "code",
   "execution_count": null,
   "metadata": {},
   "outputs": [],
   "source": [
    "sns."
   ]
  }
 ],
 "metadata": {
  "kernelspec": {
   "display_name": "Python 3",
   "language": "python",
   "name": "python3"
  },
  "language_info": {
   "codemirror_mode": {
    "name": "ipython",
    "version": 3
   },
   "file_extension": ".py",
   "mimetype": "text/x-python",
   "name": "python",
   "nbconvert_exporter": "python",
   "pygments_lexer": "ipython3",
   "version": "3.7.3"
  }
 },
 "nbformat": 4,
 "nbformat_minor": 2
}
